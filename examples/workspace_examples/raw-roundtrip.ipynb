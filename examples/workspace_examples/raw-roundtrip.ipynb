{
 "cells": [
  {
   "cell_type": "markdown",
   "id": "2a915f46-293d-4d56-9042-33dbb962f35e",
   "metadata": {},
   "source": [
    "# SDK - Raw Roundtrip\n",
    "\n",
    "In this example we will do the following:\n",
    " 1. Create a raw dataset\n",
    " 2. Create and upload a file to the dataset\n",
    " 3. Download the file\n",
    " 4. Delete the file\n",
    " 5. Delete the dataset"
   ]
  },
  {
   "cell_type": "code",
   "execution_count": 2,
   "id": "a9e1a269-05e3-4e48-8ffb-fca6e1f472c9",
   "metadata": {},
   "outputs": [],
   "source": [
    "from odp.client import OdpClient # The SDK\n",
    "from odp.dto import DatasetDto, DatasetSpec, Metadata # Dataset Transfer Objects\n",
    "from odp.dto.common.contact_info import ContactInfo\n",
    "from odp.client.dto.file_dto import FileMetadataDto # File Metadata Data Transfer Object"
   ]
  },
  {
   "cell_type": "markdown",
   "id": "e1d256b8-0522-4945-81cd-0ed1164b99da",
   "metadata": {},
   "source": [
    "## Initiate the client\n",
    "This is where we set up the client for our enviroment.\n",
    "When we initiate a client within workspaces - it automagically authenticates requests to the plaform.\n",
    "Using the SDK on your own computer you will need to authieticate, either with env variables or with our interactive login."
   ]
  },
  {
   "cell_type": "code",
   "execution_count": 3,
   "id": "517527eb-3195-47d7-8024-e8dae244f1ce",
   "metadata": {},
   "outputs": [],
   "source": [
    "client = OdpClient()"
   ]
  },
  {
   "cell_type": "markdown",
   "id": "ebd44fe6-228c-41e2-8240-1fed9794533a",
   "metadata": {},
   "source": [
    "## Create a resource data trasfer object\n",
    "This object it what's being sent back and forth to the api to reference a certain resource."
   ]
  },
  {
   "cell_type": "code",
   "execution_count": 4,
   "id": "32a6b66c-76a8-4b1b-b8e6-e47509156a87",
   "metadata": {},
   "outputs": [],
   "source": [
    "my_dataset = DatasetDto(\n",
    "    metadata=Metadata(\n",
    "        name=client.personalize_name(\"seahorses\"), # Add your name to the dataset,\n",
    "    ),\n",
    "    spec=DatasetSpec(\n",
    "        storage_controller=\"registry.hubocean.io/storageController/storage-raw-cdffs\", # Raw storage controller\n",
    "        storage_class=\"registry.hubocean.io/storageClass/raw\",                         # Raw storage\n",
    "        maintainer=ContactInfo(contact=\"Just Me <raw_client_example@hubocean.earth>\")\n",
    "    ),\n",
    ")"
   ]
  },
  {
   "cell_type": "markdown",
   "id": "0cefd151-7e88-4cac-9e0b-dbd2a6a6af70",
   "metadata": {},
   "source": [
    "## Create the dataset\n",
    "Managing resources like datasets and collections happens in the catalog part of the platform. \n",
    "Which is why we are using the catalog client part of the sdk."
   ]
  },
  {
   "cell_type": "code",
   "execution_count": 5,
   "id": "b6b2e5f4-9adf-41b7-96d3-9c70ca282ac4",
   "metadata": {},
   "outputs": [],
   "source": [
    "# The dataset is created in the catalog.\n",
    "my_dataset = client.catalog.create(my_dataset)"
   ]
  },
  {
   "cell_type": "markdown",
   "id": "0ffe0a75-a81e-47ac-a637-5e42e969d4aa",
   "metadata": {},
   "source": [
    "## Response\n",
    "\n",
    "When creating a dataset the platform adds some extra data to the Resource dto. This is the same type of object we sent to create the dataset, but there are some additional fields set. \n",
    "Like the UUID, which is now the unique identifier of the dataset. "
   ]
  },
  {
   "cell_type": "code",
   "execution_count": 6,
   "id": "5cff3742-6afc-4353-b2b6-99a7d6bdd26e",
   "metadata": {},
   "outputs": [],
   "source": [
    "my_dataset"
   ]
  },
  {
   "cell_type": "markdown",
   "id": "f551602f-995e-4cf1-bb8d-4c3da756e083",
   "metadata": {},
   "source": [
    "## Create and upload a file\n",
    "\n",
    "Creating and uploading a file are two separate actions, but are joined together in the create_file fuction of the SDK for ease of use. \n",
    "\n",
    "Now that we are handling raw data, we are using the raw client of the SDK. \n",
    "We are also creating a data transfer object for the file, which is what it's name is, the type ... etc.\n",
    "The create_file function also allows for passing the file data as well. Here the raw data is passed to the contents parameter. But you can stream any file you like. But make sure you set a fitting mime_type for the file. We are uploading text so we're using \"text/plain\". But there are other mimetypes for zip, netcdf, geojson and so forth."
   ]
  },
  {
   "cell_type": "code",
   "execution_count": 7,
   "id": "001895dd-d598-4ff1-87ab-279f6b7d7df1",
   "metadata": {},
   "outputs": [],
   "source": [
    "# Creating and uploading a file.\n",
    "file_dto = client.raw.create_file(    # Use the create_file function in the raw client.\n",
    "    resource_dto=my_dataset,    # We want to put the file in the dataset we already created.\n",
    "    file_metadata_dto=FileMetadataDto(**{\"name\": \"test.txt\", \"mime_type\": \"text/plain\"}), # Initial metadata for the file\n",
    "    contents=b\"Hello, World!\", # Actual file data\n",
    ")"
   ]
  },
  {
   "cell_type": "markdown",
   "id": "dcfbdf9f-238a-49a6-968c-b74030e85ab2",
   "metadata": {},
   "source": [
    "## File creation response\n",
    "\n",
    "The create_file function returns an uptdated file_dto, like the one we passed as file_metadata, let's check it out."
   ]
  },
  {
   "cell_type": "code",
   "execution_count": 8,
   "id": "fd079e19-c9c1-460e-9354-203b0aa4258b",
   "metadata": {},
   "outputs": [],
   "source": [
    "file_dto"
   ]
  },
  {
   "cell_type": "markdown",
   "id": "9633f6f9-4a22-47e3-bbad-13497435d7cc",
   "metadata": {},
   "source": [
    "## List files\n",
    "\n",
    "Listing files is straight forward. We use the list function in the raw client, and pass the dataset object that references the dataset we want the files to be returned from. We have only made one file, so the output should be the same as the file metadata we received in the previous step."
   ]
  },
  {
   "cell_type": "code",
   "execution_count": 9,
   "id": "6e5f418c-15dc-4c42-97e0-4a47fc52fe07",
   "metadata": {},
   "outputs": [],
   "source": [
    "for file in client.raw.list(my_dataset):\n",
    "    print(file)"
   ]
  },
  {
   "cell_type": "markdown",
   "id": "78388e82-7f4d-4970-a3bf-00375a7357cd",
   "metadata": {},
   "source": [
    "## Download file\n",
    "\n",
    "Let's download the file again to see that it worked.\n",
    "Using the download_file function in the raw client, and let's pass the reference objects for the dataset and file.\n",
    "If we add \"test.txt\" to the function we define that we want the file to be downloaded and made into a file for us at the specified path and with the specified name. Or else the function will return a stream. "
   ]
  },
  {
   "cell_type": "code",
   "execution_count": 10,
   "id": "7eb2d720-209b-4b7d-a8d3-6e29869954a3",
   "metadata": {},
   "outputs": [],
   "source": [
    "client.raw.download_file(my_dataset, file_dto, \"test.txt\")"
   ]
  },
  {
   "cell_type": "markdown",
   "id": "6756dd61-6edd-4f69-b565-9dd9d8056d41",
   "metadata": {},
   "source": [
    "## File downloaded\n",
    "\n",
    "The file should now be downloaded to the current directory and contain \"Hello, World!\""
   ]
  },
  {
   "cell_type": "markdown",
   "id": "5e4f020d-2d5c-4c07-8f8a-b0dde60b63dc",
   "metadata": {},
   "source": [
    "## Clean up\n",
    "\n",
    "To run theese examples again, we might have to delete the resources we create, so here are the functions to delete file, and delete dataset."
   ]
  },
  {
   "cell_type": "code",
   "execution_count": 11,
   "id": "4823a432-78fb-4179-a908-748fe501ce54",
   "metadata": {},
   "outputs": [],
   "source": [
    "client.raw.delete_file(my_dataset, file_dto)"
   ]
  },
  {
   "cell_type": "code",
   "execution_count": 12,
   "id": "88d60d58-460c-4c31-a431-1e71c2685565",
   "metadata": {},
   "outputs": [],
   "source": [
    "client.catalog.delete(my_dataset)"
   ]
  },
  {
   "cell_type": "code",
   "execution_count": null,
   "id": "d3d8d9f5-298c-4b9f-9db5-a681f3f9e9bf",
   "metadata": {},
   "outputs": [],
   "source": []
  }
 ],
 "metadata": {
  "kernelspec": {
   "display_name": "Python 3 (ipykernel)",
   "language": "python",
   "name": "python3"
  },
  "language_info": {
   "codemirror_mode": {
    "name": "ipython",
    "version": 3
   },
   "file_extension": ".py",
   "mimetype": "text/x-python",
   "name": "python",
   "nbconvert_exporter": "python",
   "pygments_lexer": "ipython3",
   "version": "3.10.12"
  }
 },
 "nbformat": 4,
 "nbformat_minor": 5
}
