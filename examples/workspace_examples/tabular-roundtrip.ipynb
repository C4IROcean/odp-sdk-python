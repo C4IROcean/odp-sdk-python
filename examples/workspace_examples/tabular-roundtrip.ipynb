{
 "cells": [
  {
   "cell_type": "markdown",
   "id": "27d37a44-4006-43e5-84ee-1f2ec5d50e69",
   "metadata": {
    "tags": []
   },
   "source": [
    "# SDK - Tabular Roundtrip\n",
    "\n",
    "In this example we will do the following:\n",
    " 1. Create a tabular dataset\n",
    " 2. Create schema\n",
    " 3. Insert data into the dataset\n",
    " 4. Query the data\n",
    " 5. Update the data\n",
    " 6. Delete the data\n",
    " 7. Cleanup"
   ]
  },
  {
   "cell_type": "code",
   "id": "3c67454f-b870-4ec6-9782-2f5532f61707",
   "metadata": {
    "tags": [],
    "ExecuteTime": {
     "end_time": "2024-07-22T11:14:46.148988Z",
     "start_time": "2024-07-22T11:14:45.345339Z"
    }
   },
   "source": [
    "from odp.client import OdpClient # The SDK\n",
    "from odp.dto import DatasetDto, DatasetSpec, Metadata\n",
    "from odp.dto.common.contact_info import ContactInfo\n",
    "from odp.client.dto.table_spec import TableSpec\n",
    "from odp.client.exc import OdpResourceNotFoundError"
   ],
   "outputs": [],
   "execution_count": 1
  },
  {
   "cell_type": "markdown",
   "id": "edadf04b-f894-4f0e-aaa3-75fd486ae450",
   "metadata": {},
   "source": [
    "## Initiate the client\n",
    "This is where we set up the client for our enviroment.\n",
    "When we initiate a client within workspaces - it automagically authenticates requests to the plaform.\n",
    "Using the SDK on your own computer you will need to authieticate, either with env variables or with our interactive login."
   ]
  },
  {
   "cell_type": "code",
   "id": "9da1b45f-a514-416c-a344-ea7a08dec0db",
   "metadata": {
    "tags": [],
    "ExecuteTime": {
     "end_time": "2024-07-22T11:14:49.227738Z",
     "start_time": "2024-07-22T11:14:48.807532Z"
    }
   },
   "source": [
    "client = OdpClient()"
   ],
   "outputs": [],
   "execution_count": 2
  },
  {
   "cell_type": "markdown",
   "id": "b0f7d1f4-9628-4c8d-b172-8f4d451e7a69",
   "metadata": {},
   "source": [
    "## Create a resource data trasfer object\n",
    "This object it what's being sent back and forth to the api to reference a certain resource."
   ]
  },
  {
   "cell_type": "code",
   "id": "3315e2c2-b887-4cd1-91d8-5bc1577f45d6",
   "metadata": {
    "tags": [],
    "ExecuteTime": {
     "end_time": "2024-07-22T11:14:59.024613Z",
     "start_time": "2024-07-22T11:14:53.396279Z"
    }
   },
   "source": [
    "my_dataset = DatasetDto(\n",
    "    metadata=Metadata(\n",
    "        name=client.personalize_name(\"narwhals\"),  # Add your name to the dataset\n",
    "    ),\n",
    "    spec=DatasetSpec(\n",
    "        storage_controller=\"registry.hubocean.io/storageController/storage-tabular\",\n",
    "        storage_class=\"registry.hubocean.io/storageClass/tabular\",\n",
    "        maintainer=ContactInfo(contact=\"Just Me <raw_client_example@hubocean.eart>\")\n",
    "    )\n",
    ")"
   ],
   "outputs": [],
   "execution_count": 3
  },
  {
   "cell_type": "markdown",
   "id": "bc2c7def-2b90-4d30-bc00-52bec20d162f",
   "metadata": {},
   "source": [
    "## Create the dataset\n",
    "Managing resources like datasets and collections happens in the catalog part of the platform. \n",
    "Which is why we are using the catalog client part of the sdk."
   ]
  },
  {
   "cell_type": "code",
   "id": "f28be2d7-5b06-4439-b2a8-71a9df84a6ef",
   "metadata": {
    "tags": [],
    "ExecuteTime": {
     "end_time": "2024-07-22T11:15:05.167087Z",
     "start_time": "2024-07-22T11:15:04.899931Z"
    }
   },
   "source": [
    "# The dataset is created in the catalog.\n",
    "my_dataset = client.catalog.create(my_dataset)"
   ],
   "outputs": [],
   "execution_count": 4
  },
  {
   "cell_type": "markdown",
   "id": "aaf9b932-6a3a-4a5a-9baa-5bd69f4dc54d",
   "metadata": {},
   "source": [
    "## Response\n",
    "\n",
    "When creating a dataset the platform adds some extra data to the Resource dto. This is the same type of object we sent to create the dataset, but there are some additional fields set. \n",
    "Like the UUID, which is now the unique identifier of the dataset. "
   ]
  },
  {
   "cell_type": "code",
   "id": "2def554f-e14b-4af2-9947-4d806a83735f",
   "metadata": {
    "tags": [],
    "ExecuteTime": {
     "end_time": "2024-07-22T11:15:07.481986Z",
     "start_time": "2024-07-22T11:15:07.473896Z"
    }
   },
   "source": "my_dataset",
   "outputs": [],
   "execution_count": 5
  },
  {
   "cell_type": "markdown",
   "id": "21301ece-3bec-4807-943a-f0e363d2b92c",
   "metadata": {},
   "source": [
    "## Create a schema\n",
    "\n",
    "A schema needs to be created before any data can be inserted. The schema defins the shape of the data. create_schema returns the updated table_schema object."
   ]
  },
  {
   "cell_type": "code",
   "id": "74726e76-b1ca-449e-9116-78d57bb5ac55",
   "metadata": {
    "tags": [],
    "ExecuteTime": {
     "end_time": "2024-07-22T11:15:48.374082Z",
     "start_time": "2024-07-22T11:15:48.160064Z"
    }
   },
   "source": [
    "table_schema = {\"Data\": {\"type\": \"string\"}}  # Our schema has one field named Data with the type string\n",
    "my_table_spec = TableSpec(table_schema=table_schema)\n",
    "\n",
    "mt_table_spec = client.tabular.create_schema(resource_dto=my_dataset, table_spec=my_table_spec)\n"
   ],
   "outputs": [],
   "execution_count": 6
  },
  {
   "cell_type": "markdown",
   "id": "615b7b12-fe43-4cc8-a4ed-328e185c81d9",
   "metadata": {},
   "source": [
    "## Insert data\n",
    "\n",
    "Now that we have our schema set we can start inserting data into our dataset."
   ]
  },
  {
   "cell_type": "code",
   "id": "9a9a36ba-0cd2-402d-bb9e-35575bed3626",
   "metadata": {
    "tags": [],
    "ExecuteTime": {
     "end_time": "2024-07-22T11:15:51.584705Z",
     "start_time": "2024-07-22T11:15:50.125499Z"
    }
   },
   "source": [
    "test_data = [{\"Data\": \"Test\"}, {\"Data\": \"Test1\"}]\n",
    "\n",
    "client.tabular.write(resource_dto=my_dataset, data=test_data)"
   ],
   "outputs": [],
   "execution_count": 7
  },
  {
   "cell_type": "markdown",
   "id": "2f692d77-e9dc-46bc-b397-94d4457cb93f",
   "metadata": {},
   "source": [
    "## Query data\n",
    "\n",
    "With our data inserted into the dataset we can query it."
   ]
  },
  {
   "cell_type": "code",
   "id": "ec9369c7-90ea-4b9f-8ace-883e45f9dca4",
   "metadata": {
    "tags": [],
    "ExecuteTime": {
     "end_time": "2024-07-22T11:15:56.214218Z",
     "start_time": "2024-07-22T11:15:55.525232Z"
    }
   },
   "source": [
    "our_data = client.tabular.select_as_list(my_dataset)\n",
    "\n",
    "print(\"-------DATA IN DATASET--------\")\n",
    "print(our_data)"
   ],
   "outputs": [],
   "execution_count": 8
  },
  {
   "cell_type": "markdown",
   "id": "c0ed6177-eedc-45fa-a11a-f246c343e2b7",
   "metadata": {},
   "source": [
    "## Update the data\n",
    "\n",
    "To update the data filters must be declared to specify which data points will be updated and the data to replace must be given. The number of data that is filtered and the number of data that is provided must be the same. The system updates the data 1 to 1. Our filtering structure uses a system named OQS. OQS spesifications can be found in our documentation. https://docs.hubocean.earth/guides/querying/querying-resources/"
   ]
  },
  {
   "cell_type": "code",
   "id": "ec5b8ae5-224d-449f-a147-cb961dd9d34f",
   "metadata": {
    "ExecuteTime": {
     "end_time": "2024-07-22T11:15:59.178879Z",
     "start_time": "2024-07-22T11:15:58.486948Z"
    }
   },
   "source": [
    "update_filters = {\"#EQUALS\": [\"$Data\", \"Test\"]}\n",
    "new_data = [{\"Data\": \"Test Updated\"}]\n",
    "\n",
    "client.tabular.update(\n",
    "    resource_dto=my_dataset,\n",
    "    data=new_data,\n",
    "    filter_query=update_filters,\n",
    ")\n",
    "\n",
    "result = client.tabular.select_as_list(my_dataset)\n",
    "\n",
    "print(\"-------UPDATED DATA IN DATASET--------\")\n",
    "print(result)"
   ],
   "outputs": [],
   "execution_count": 9
  },
  {
   "cell_type": "markdown",
   "id": "e2e949f7-2357-45a9-91c1-fdb58c062917",
   "metadata": {},
   "source": [
    "## Delete the data\n",
    "\n",
    "To delete data we again need filters to specify which data to delete."
   ]
  },
  {
   "cell_type": "code",
   "id": "7e8c0949-80fe-4342-9f1a-746f5d1a6aa7",
   "metadata": {
    "ExecuteTime": {
     "end_time": "2024-07-22T11:16:15.820076Z",
     "start_time": "2024-07-22T11:16:13.499114Z"
    }
   },
   "source": [
    "delete_filters = {\"#EQUALS\": [\"$Data\", \"Test1\"]}\n",
    "client.tabular.delete(resource_dto=my_dataset, filter_query=delete_filters)\n",
    "\n",
    "result = client.tabular.select_as_list(my_dataset)\n",
    "\n",
    "print(\"-------DATA IN DATASET AFTER DELETION--------\")\n",
    "print(result)"
   ],
   "outputs": [],
   "execution_count": 10
  },
  {
   "cell_type": "markdown",
   "id": "9f8be0bd-224c-443c-b876-31442a70696c",
   "metadata": {},
   "source": [
    "## Cleanup\n",
    "\n",
    "For cleanup we remove the schema and delete the dataset."
   ]
  },
  {
   "cell_type": "code",
   "id": "8a000a41-fe2f-42a1-87ea-a352b022470a",
   "metadata": {
    "ExecuteTime": {
     "end_time": "2024-07-22T11:16:18.482468Z",
     "start_time": "2024-07-22T11:16:17.980330Z"
    }
   },
   "source": [
    "# Delete the schema\n",
    "client.tabular.delete_schema(my_dataset)\n",
    "\n",
    "try:\n",
    "    client.tabular.get_schema(my_dataset)\n",
    "except OdpResourceNotFoundError as e:\n",
    "    print(\"Schema not found error since it is deleted\")\n",
    "    print(e)\n",
    "\n",
    "# Delete the dataset\n",
    "client.catalog.delete(my_dataset)\n",
    "print(\"Dataset deleted successfully\")"
   ],
   "outputs": [],
   "execution_count": 11
  },
  {
   "metadata": {},
   "cell_type": "code",
   "outputs": [],
   "execution_count": null,
   "source": "",
   "id": "c25b272a5c45b5e2"
  }
 ],
 "metadata": {
  "kernelspec": {
   "display_name": "Python 3 (ipykernel)",
   "language": "python",
   "name": "python3"
  },
  "language_info": {
   "codemirror_mode": {
    "name": "ipython",
    "version": 3
   },
   "file_extension": ".py",
   "mimetype": "text/x-python",
   "name": "python",
   "nbconvert_exporter": "python",
   "pygments_lexer": "ipython3",
   "version": "3.10.10"
  }
 },
 "nbformat": 4,
 "nbformat_minor": 5
}
