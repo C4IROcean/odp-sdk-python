{
 "cells": [
  {
   "cell_type": "markdown",
   "metadata": {},
   "source": [
    "# Statistical Gridding of Data from The Ocean Data Platform"
   ]
  },
  {
   "cell_type": "markdown",
   "metadata": {},
   "source": [
    "In this notebook we will download ocean temperature measurements from the seas around Scandinavia and create a map of the average summer ocean temperatures, at 10m depth, for the year 2018. This includes:\n",
    "- Downloading data fron the Ocean Data Platform\n",
    "- Interpolating each temperature profile to get the temperature at 10m depth\n",
    "- Create a gridded map of the mean summer temperature using 2D and 3D interpolation techniques"
   ]
  },
  {
   "cell_type": "code",
   "execution_count": null,
   "metadata": {},
   "outputs": [],
   "source": [
    "from odp_sdk import ODPClient\n",
    "\n",
    "from odp_sdk.utils.numeric import *\n",
    "from odp_sdk.utils.visual import *\n",
    "\n",
    "import numpy as np\n",
    "import pandas as pd\n",
    "import metpy.interpolate\n",
    "import metpy\n",
    "import matplotlib.pyplot as plt\n",
    "\n",
    "import cmocean #Colormaps for oceanograph\n",
    "\n",
    "import warnings\n",
    "warnings.filterwarnings(\"ignore\")"
   ]
  },
  {
   "cell_type": "code",
   "execution_count": null,
   "metadata": {},
   "outputs": [],
   "source": [
    "ODP_API_KEY = \"Y2UyNzUzZDctMmZhYi00MGE0LWJkNWItZWIyMmUzMDkwOWQ1\""
   ]
  },
  {
   "cell_type": "code",
   "execution_count": null,
   "metadata": {},
   "outputs": [],
   "source": [
    "client = ODPClient(api_key=ODP_API_KEY)"
   ]
  },
  {
   "cell_type": "code",
   "execution_count": null,
   "metadata": {},
   "outputs": [],
   "source": [
    "df=client.casts(longitude=[-25,35],\n",
    "                latitude=[50,80],\n",
    "                timespan=['2018-06-01','2018-08-31'],\n",
    "                parameters=['date','lon','lat','z','Temperature'],\n",
    "                include_flagged_data=False)\n"
   ]
  },
  {
   "cell_type": "code",
   "execution_count": null,
   "metadata": {},
   "outputs": [],
   "source": [
    "df.head()"
   ]
  },
  {
   "cell_type": "code",
   "execution_count": null,
   "metadata": {},
   "outputs": [],
   "source": [
    "df=df[df.z<50] #Only keep data shallower than 50m"
   ]
  },
  {
   "cell_type": "markdown",
   "metadata": {},
   "source": [
    "## Interpolate casts to desired depths"
   ]
  },
  {
   "cell_type": "code",
   "execution_count": null,
   "metadata": {},
   "outputs": [],
   "source": [
    "df_int=interpolate_casts_to_z(df,'Temperature',[0,10,20]) # This one takes a long time"
   ]
  },
  {
   "cell_type": "code",
   "execution_count": null,
   "metadata": {},
   "outputs": [],
   "source": [
    "df_int.dropna(inplace=True)\n",
    "df_int=df_int[df_int.Temperature>-2]\n",
    "df_int.describe()"
   ]
  },
  {
   "cell_type": "markdown",
   "metadata": {},
   "source": [
    "# Ocean temperature measurements"
   ]
  },
  {
   "cell_type": "code",
   "execution_count": null,
   "metadata": {},
   "outputs": [],
   "source": [
    "df_int=df_int[(df_int.datetime>'2018-06-01')& (df_int.datetime<'2018-08-31') &(df_int.z==10)]"
   ]
  },
  {
   "cell_type": "code",
   "execution_count": null,
   "metadata": {},
   "outputs": [],
   "source": [
    "plot_casts('Temperature',df_int,cmap=cmocean.cm.thermal,vrange=[0,20])\n",
    "plt.title('Ocean Temperatures at 10m Depth')"
   ]
  },
  {
   "cell_type": "markdown",
   "metadata": {},
   "source": [
    "# Ocean summer temperature gridding 2D (longitude,latitude)"
   ]
  },
  {
   "cell_type": "code",
   "execution_count": null,
   "metadata": {},
   "outputs": [],
   "source": [
    "\n",
    "points=df_int[['lon','lat']].values.astype('float')\n",
    "values=df_int['Temperature'].values.astype('float')\n",
    "\n",
    "\n",
    "int_points=[np.linspace(-25,35,60*10+1),np.linspace(50,80,30*10+1)]\n"
   ]
  },
  {
   "cell_type": "markdown",
   "metadata": {},
   "source": [
    "### Mean Summer Temperature - Radial Basis Function (RBF)"
   ]
  },
  {
   "cell_type": "code",
   "execution_count": null,
   "metadata": {},
   "outputs": [],
   "source": [
    "kind='rbf'\n",
    "grid,g=interpolate_to_grid(points.copy(),values.copy(),int_points.copy(), interp_type=kind,\n",
    "                               rbf_func='linear',rbf_smooth=0.1,rescale=True)\n"
   ]
  },
  {
   "cell_type": "code",
   "execution_count": null,
   "metadata": {},
   "outputs": [],
   "source": [
    "plot_grid(grid[0],grid[1],g,cmap=cmocean.cm.thermal,vrange=[0,20],variable_name='Temperature [C]')\n",
    "plt.title(kind)"
   ]
  },
  {
   "cell_type": "markdown",
   "metadata": {},
   "source": [
    "### Mean Summer Temperature - Linear + Nearest"
   ]
  },
  {
   "cell_type": "code",
   "execution_count": null,
   "metadata": {},
   "outputs": [],
   "source": [
    "kind='rbf'\n",
    "grid,g0=interpolate_to_grid(points.copy(),values.copy(),int_points.copy(), interp_type='nearest',rescale=True)\n",
    "grid,g1=interpolate_to_grid(points.copy(),values.copy(),int_points.copy(), interp_type='linear',rescale=True)\n",
    "\n",
    "g=g1.copy()\n",
    "g[np.isnan(g)]=g0[np.isnan(g)] # Filling the empty boundary values in linear interpolation with nearest"
   ]
  },
  {
   "cell_type": "code",
   "execution_count": null,
   "metadata": {},
   "outputs": [],
   "source": [
    "plot_grid(grid[0],grid[1],g,cmap=cmocean.cm.thermal,vrange=[0,20],variable_name='Temperature [C]')\n",
    "plt.title('Linear + Nearest')"
   ]
  },
  {
   "cell_type": "markdown",
   "metadata": {},
   "source": [
    "# Ocean temperature gridding 3D (longitude,latitude and time)"
   ]
  },
  {
   "cell_type": "code",
   "execution_count": null,
   "metadata": {},
   "outputs": [],
   "source": [
    "    \n",
    "df_int['unixtime']=df_int['datetime'].apply(lambda x : x.value) \n",
    "df_int.dropna(inplace=True)\n",
    "points=df_int[['lon','lat','unixtime']].values.astype('float')\n",
    "values=df_int['Temperature'].values .astype('float')\n",
    "\n",
    "int_points=[np.linspace(-25,35,60*4+1),\n",
    "            np.linspace(50,80,30*4+1),\n",
    "            np.linspace(pd.Timestamp('2018-06-01').value,pd.Timestamp('2018-08-31').value,8)]\n",
    "    \n",
    "    "
   ]
  },
  {
   "cell_type": "markdown",
   "metadata": {},
   "source": [
    "### Mean Summer Temperature - Linear Interpolation "
   ]
  },
  {
   "cell_type": "code",
   "execution_count": null,
   "metadata": {},
   "outputs": [],
   "source": [
    "grid,g0=interpolate_to_grid(points.copy(),values.copy(),int_points.copy(), interp_type='nearest',rescale=True)\n",
    "grid,g1=interpolate_to_grid(points.copy(),values.copy(),int_points.copy(), interp_type='linear',rescale=True)\n",
    "g=g1.copy()\n",
    "g[np.isnan(g)]=g0[np.isnan(g)] # Filling the empty boundary values in linear interpolation with nearest"
   ]
  },
  {
   "cell_type": "code",
   "execution_count": null,
   "metadata": {},
   "outputs": [],
   "source": [
    "t_mean=np.nanmean(g,axis=2)\n",
    "plot_grid(grid[0][:,:,0],grid[1][:,:,0],t_mean,cmap=cmocean.cm.thermal,vrange=[0,20],variable_name='Temperature [C]')\n",
    "plt.title('Linear + nearest')"
   ]
  },
  {
   "cell_type": "markdown",
   "metadata": {},
   "source": [
    "### Mean Summer Temperature - Radial Basis Function (RBF) "
   ]
  },
  {
   "cell_type": "code",
   "execution_count": null,
   "metadata": {},
   "outputs": [],
   "source": [
    "grid,g=interpolate_to_grid(points.copy(),values.copy(),int_points.copy(), interp_type='rbf',rbf_smooth=1e-9,rescale=True)\n",
    "\n",
    "t_mean=np.nanmean(g[:,:],axis=2)\n",
    "plot_grid(grid[0][:,:,0],grid[1][:,:,0],t_mean,cmap=cmocean.cm.thermal,vrange=[0,20],variable_name='Temperature [C]')#;plt.title(interp_type)\n"
   ]
  },
  {
   "cell_type": "markdown",
   "metadata": {},
   "source": [
    "### Standard Deviation Summer Temperature - Radial Basis Function (RBF) "
   ]
  },
  {
   "cell_type": "code",
   "execution_count": null,
   "metadata": {},
   "outputs": [],
   "source": [
    "t_std=np.nanstd(g[:,:],axis=2)\n",
    "plot_grid(grid[0][:,:,0],grid[1][:,:,0],t_std,cmap=cmocean.cm.thermal,vrange=[t_std.min(),t_std.max()],variable_name='Temperature [C]')#;plt.title(interp_type)\n"
   ]
  },
  {
   "cell_type": "code",
   "execution_count": null,
   "metadata": {},
   "outputs": [],
   "source": []
  }
 ],
 "metadata": {
  "kernelspec": {
   "display_name": "Python 3",
   "language": "python",
   "name": "python3"
  },
  "language_info": {
   "codemirror_mode": {
    "name": "ipython",
    "version": 3
   },
   "file_extension": ".py",
   "mimetype": "text/x-python",
   "name": "python",
   "nbconvert_exporter": "python",
   "pygments_lexer": "ipython3",
   "version": "3.9.0rc2"
  },
  "pycharm": {
   "stem_cell": {
    "cell_type": "raw",
    "metadata": {
     "collapsed": false
    },
    "source": []
   }
  }
 },
 "nbformat": 4,
 "nbformat_minor": 4
}
