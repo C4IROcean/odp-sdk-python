{
 "cells": [
  {
   "cell_type": "markdown",
   "metadata": {},
   "source": [
    "# Exploring Ocean Temperature Change\n",
    "In this notebook we are exploring the change in ocean temperature at specific location in the ocean.\n",
    "- Data from the 1980s until today is downloaded from the Ocean Data Platform\n",
    "- The casts are interpolated individually to obtain temperature measurements at the same depth intervals\n",
    "- The temperature measurements are then interpolated in space and time to obtain a temperature time series at each location\n",
    "- The time histories are analyzed to explore temperature increase and change in seasonal variations."
   ]
  },
  {
   "cell_type": "code",
   "execution_count": null,
   "metadata": {},
   "outputs": [],
   "source": [
    "import calendar \n",
    "import cmocean\n",
    "import warnings\n",
    "\n",
    "import matplotlib.pyplot as plt\n",
    "import pandas as pd\n",
    "import numpy as np\n",
    "\n",
    "from odp_sdk.utils.numeric import *\n",
    "from odp_sdk.utils.visual import *\n",
    "\n",
    "from dateutil.relativedelta import *\n",
    "\n",
    "warnings.filterwarnings(\"ignore\")\n",
    "\n",
    "from odp_sdk import ODPClient"
   ]
  },
  {
   "cell_type": "code",
   "execution_count": null,
   "metadata": {},
   "outputs": [],
   "source": [
    "ODP_API_KEY=\"\""
   ]
  },
  {
   "cell_type": "code",
   "execution_count": null,
   "metadata": {},
   "outputs": [],
   "source": [
    "client=ODPClient(api_key=ODP_API_KEY)"
   ]
  },
  {
   "cell_type": "code",
   "execution_count": null,
   "metadata": {},
   "outputs": [],
   "source": [
    "# Location of Interpolation - Skakerrak\n",
    "point_lat=58\n",
    "point_lon=10\n",
    "ddeg=2 #buffer\n",
    "\n",
    "# Downloading data from ODP\n",
    "measurements=client.casts(longitude=[point_lon-ddeg,point_lon+ddeg],\n",
    "                latitude=[point_lat-ddeg,point_lat+ddeg],\n",
    "                timespan=['1980-01-01','2020-01-01'],\n",
    "                parameters=['date','lon','lat','z','Temperature'],\n",
    "                include_flagged_data=False,\n",
    "                n_threads=45)"
   ]
  },
  {
   "cell_type": "code",
   "execution_count": null,
   "metadata": {},
   "outputs": [],
   "source": [
    "measurements.head()"
   ]
  },
  {
   "cell_type": "code",
   "execution_count": null,
   "metadata": {},
   "outputs": [],
   "source": [
    "# Interpolating each temperature profile. OBS: This one takes a long time.\n",
    "measurements_int=interpolate_casts_to_z(measurements[measurements.z<50].dropna(),'Temperature',[0,2,5,10,20,40]) "
   ]
  },
  {
   "cell_type": "code",
   "execution_count": null,
   "metadata": {},
   "outputs": [],
   "source": [
    "measurements_int.info()"
   ]
  },
  {
   "cell_type": "code",
   "execution_count": null,
   "metadata": {},
   "outputs": [],
   "source": [
    "plot_casts('Temperature',measurements_int[measurements_int.z==5])"
   ]
  },
  {
   "cell_type": "code",
   "execution_count": null,
   "metadata": {},
   "outputs": [],
   "source": [
    "\n",
    "\n",
    "df=measurements_int[measurements_int.z==5].copy()\n",
    "df.dropna(inplace=True)\n",
    "kind='rbf'\n",
    "days_buffer=30\n",
    "variable='Temperature'\n",
    "#deg_buffer=5\n",
    "\n",
    "dt=pd.Timedelta(days=days_buffer)\n",
    "\n",
    "time_hist=[]\n",
    "temp_hist=[]\n",
    "for month in range(12*40):\n",
    "    \n",
    "    int_time=pd.to_datetime('1980-01-01')+relativedelta(months=month)\n",
    "\n",
    "    num_days = calendar.monthrange(int_time.year, int_time.month)[1]\n",
    "    int_days = [(pd.datetime(int_time.year, int_time.month, day)-pd.datetime(1970,1,1)).total_seconds() for day in range(1, num_days+1)]\n",
    "  \n",
    "    int_points=[[point_lon],[point_lat], int_days]\n",
    "    \n",
    "    _df=df[(df.datetime>(int_time-dt-pd.Timedelta(days=15))) & (df.datetime<(int_time+dt-pd.Timedelta(days=15)))]\n",
    "    _df['unixtime']=_df['datetime'] - pd.datetime(1970,1,1)\n",
    "    _df['unixtime']=_df['unixtime'].apply(lambda x : x.total_seconds())\n",
    "\n",
    "    if _df.empty:\n",
    "        continue\n",
    "    if _df.shape[0]<10:\n",
    "        continue\n",
    "    \n",
    "    points=_df[['lon','lat','unixtime']].values.astype('float')\n",
    "    values=_df['Temperature'].values.astype('float')\n",
    "    \n",
    "    grid,g=interpolate_to_grid(points.copy(),values.copy(),int_points, interp_type=kind,rescale=True,\n",
    "                               rbf_smooth=1e-5)\n",
    "    \n",
    "    time_hist+=int_days\n",
    "    temp_hist+=g[0,0].tolist()\n"
   ]
  },
  {
   "cell_type": "code",
   "execution_count": null,
   "metadata": {},
   "outputs": [],
   "source": [
    "_df.shape"
   ]
  },
  {
   "cell_type": "code",
   "execution_count": null,
   "metadata": {},
   "outputs": [],
   "source": [
    "df=pd.DataFrame(np.vstack([[time_hist],[temp_hist]]).T,columns=['time','temperature'])\n",
    "df['datetime']=df['time'].apply(lambda d : pd.Timestamp(1970,1,1)+pd.Timedelta(seconds=d))#pd.to_datetime(df['time'],unit='s')\n",
    "df.set_index('datetime',inplace=True)\n",
    "df.dropna(inplace=True)\n",
    "df.sort_index(inplace=True)\n",
    "df.head(10)"
   ]
  },
  {
   "cell_type": "markdown",
   "metadata": {},
   "source": [
    "## Historic Temperature History and Trend"
   ]
  },
  {
   "cell_type": "code",
   "execution_count": null,
   "metadata": {},
   "outputs": [],
   "source": [
    "_df=df['1981-01-01':'2019-01-01']\n",
    "\n",
    "x=(_df.index-pd.Timestamp(1980,1,1)).days\n",
    "y=_df['temperature']\n",
    "\n",
    "z = np.polynomial.polynomial.polyfit(x,y, 1) \n",
    "\n",
    "\n",
    "y=z[0]+z[1]*(x-x[0])\n",
    "\n",
    "plt.figure(figsize=(16,6))\n",
    "plt.scatter(measurements_int[measurements_int.z==5].datetime,measurements_int[measurements_int.z==10].Temperature,marker='.',color='pink')\n",
    "plt.plot(_df.index,_df.temperature,'k')\n",
    "plt.plot(_df.index,y,'r')\n",
    "plt.xlabel('Year')\n",
    "plt.ylabel('Temperature [deg C]')\n",
    "plt.title('Skagerrak - Ocean Temperature')\n",
    "\n",
    "plt.legend(['Temperature Measurement','Interpolated Temperature','Trendline'],loc=0)\n",
    "print('Mean temperature change of %.2f degrees between %s and %s'%(z[1]*(x[-1]-x[0]),_df.index[0].year,_df.index[-1].year))"
   ]
  },
  {
   "cell_type": "markdown",
   "metadata": {},
   "source": [
    "## Annual Variation - Standard Deviation of Sea Surface Temperatures"
   ]
  },
  {
   "cell_type": "code",
   "execution_count": null,
   "metadata": {},
   "outputs": [],
   "source": [
    "temp_std=_df.rolling('360d',).std()[_df.index.dayofyear==6*30+3]\n",
    "temp_std.temperature.plot(figsize=(10,5),color='k');plt.title('Annual Temperature Standard Deviation')\n",
    "\n",
    "z = np.polynomial.polynomial.polyfit(temp_std.index.year.values,temp_std.temperature.values, 1)\n",
    "r=z[0]+z[1]*temp_std.index.year.values\n",
    "plt.plot(temp_std.index,r,'r')\n",
    "plt.legend(['Annual std','Trendline'],loc=0)\n",
    "print('Annual temperature std has increased by %d%% from %d to %d'%((r[-1]/r[0]-1)*100,temp_std.index.year.values[0],temp_std.index.year.values[-1]))"
   ]
  },
  {
   "cell_type": "markdown",
   "metadata": {},
   "source": [
    "### July Mean Surface Temperature"
   ]
  },
  {
   "cell_type": "code",
   "execution_count": null,
   "metadata": {},
   "outputs": [],
   "source": [
    "temp_mean_july=_df.rolling('30d',).mean()[_df.index.dayofyear==6*30+15]\n",
    "temp_mean_july.temperature.plot(figsize=(10,5),color='k');plt.title('July Mean Temperature')\n",
    "\n",
    "z = np.polynomial.polynomial.polyfit(temp_mean_july.index.year.values,temp_mean_july.temperature.values, 1)\n",
    "r=z[0]+z[1]*temp_mean_july.index.year.values\n",
    "plt.plot(temp_mean_july.index,r,'r')\n",
    "plt.legend(['July Temperature','Trendline'],loc=0)\n",
    "print('July temperarue has increased by %.1f degrees between %d and %d'%(r[-1]-r[0],temp_mean_july.index.year.values[0],temp_mean_july.index.year.values[-1]))"
   ]
  },
  {
   "cell_type": "code",
   "execution_count": null,
   "metadata": {},
   "outputs": [],
   "source": []
  }
 ],
 "metadata": {
  "kernelspec": {
   "display_name": "Python 3",
   "language": "python",
   "name": "python3"
  },
  "language_info": {
   "codemirror_mode": {
    "name": "ipython",
    "version": 3
   },
   "file_extension": ".py",
   "mimetype": "text/x-python",
   "name": "python",
   "nbconvert_exporter": "python",
   "pygments_lexer": "ipython3",
   "version": "3.9.0rc2"
  },
  "pycharm": {
   "stem_cell": {
    "cell_type": "raw",
    "metadata": {
     "collapsed": false
    },
    "source": []
   }
  }
 },
 "nbformat": 4,
 "nbformat_minor": 4
}
