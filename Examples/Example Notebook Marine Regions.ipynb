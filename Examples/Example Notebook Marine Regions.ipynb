{
 "cells": [
  {
   "cell_type": "code",
   "execution_count": null,
   "metadata": {},
   "outputs": [],
   "source": [
    "import numpy as np\n",
    "import pandas as pd\n",
    "import scipy\n",
    "from datetime import datetime, timedelta\n",
    "import sys\n",
    "sys.path.append('/Users/tarabaris/GitHub/odp-sdk-python/Examples')\n",
    "\n",
    "## For SDK\n",
    "from getpass import getpass\n",
    "from odp_sdk import ODPClient\n",
    "\n",
    "from odp_sdk.utils.numeric import *\n",
    "from odp_sdk.utils.visual import *\n",
    "\n",
    "## For plotting\n",
    "import seaborn as sns\n",
    "import matplotlib.pyplot as plt\n",
    "import mpl_toolkits\n",
    "import cartopy.crs as ccrs\n",
    "from cartopy.mpl.ticker import LongitudeFormatter, LatitudeFormatter\n",
    "import cartopy.feature as cfeature\n",
    "import cmocean\n",
    "from matplotlib.colors import BoundaryNorm\n",
    "from matplotlib.ticker import MaxNLocator\n",
    "from mpl_toolkits.axes_grid1 import make_axes_locatable\n",
    "from cartopy.mpl.gridliner import LONGITUDE_FORMATTER, LATITUDE_FORMATTER\n",
    "from matplotlib.lines import Line2D\n",
    "\n",
    "## For geopandas\n",
    "import geopandas as gpd\n",
    "from shapely.geometry import Polygon\n",
    "from shapely.geometry import MultiPolygon\n",
    "\n",
    "## Extra functions\n",
    "from tqdm import notebook\n",
    "import warnings\n",
    "warnings.filterwarnings(\"ignore\")\n",
    "\n",
    "pd.set_option('display.max_columns', None)\n",
    "pd.set_option('display.max_rows', None)\n",
    "sns.set_palette(sns.color_palette(\"hls\", 47))"
   ]
  },
  {
   "cell_type": "markdown",
   "metadata": {},
   "source": [
    "# Connect to API"
   ]
  },
  {
   "cell_type": "code",
   "execution_count": null,
   "metadata": {},
   "outputs": [],
   "source": [
    "client = ODPClient(api_key=getpass(prompt='Insert your personal ODP API key:'), \n",
    "                       project=\"odp\", client_name=\"odp\")"
   ]
  },
  {
   "cell_type": "markdown",
   "metadata": {},
   "source": [
    "Run function you will need to fetch polygons of different regions"
   ]
  },
  {
   "cell_type": "code",
   "execution_count": null,
   "metadata": {},
   "outputs": [],
   "source": [
    "def get_poly(df):\n",
    "    polys=[]\n",
    "    for i in notebook.tqdm(range(len(df))):\n",
    "        if df['poly_count'][i]>1:\n",
    "            m_polys=[]\n",
    "            for i in range(df['poly_count'][i]):\n",
    "                df_p = client.sequences.data.retrieve(id=df['id'][i], start=1, end=None).to_pandas()\n",
    "                m_polys.append(Polygon(zip(df_p[df_p.polygonId==i]['lat'], df_p[df_p.polygonId==i]['lon'])))\n",
    "            polys.append(MultiPolygon(m_polys))\n",
    "        else:\n",
    "            polys.append(Polygon(zip(client.sequences.data.retrieve(id=df['id'][i], start=1, end=None).to_pandas()['lat'], client.sequences.data.retrieve(id=df['id'][i], start=1, end=None).to_pandas()['lon'])))\n",
    "    df['geometry']=polys"
   ]
  },
  {
   "cell_type": "markdown",
   "metadata": {},
   "source": [
    "# Get casts and data from Antarctic EEZ"
   ]
  },
  {
   "cell_type": "markdown",
   "metadata": {},
   "source": [
    "First get all sequences of Marine Regions and EEZs that belong to Antarctica"
   ]
  },
  {
   "cell_type": "code",
   "execution_count": null,
   "metadata": {},
   "outputs": [],
   "source": [
    "seqs = client.sequences.list(external_id_prefix = 'marine-regions-Intersect_EEZ_IHO', metadata={'SOVEREIGN1': 'ANTARCTICA'}, limit=-1).to_pandas()\n",
    "seqs.head()"
   ]
  },
  {
   "cell_type": "markdown",
   "metadata": {},
   "source": [
    "Create a dataframe with marine regions, eezs, and associated polygons"
   ]
  },
  {
   "cell_type": "code",
   "execution_count": null,
   "metadata": {},
   "outputs": [],
   "source": [
    "df_ant = pd.DataFrame({'marine_regions':[seqs.iloc[i]['metadata']['MARREGION'] for i in range(len(seqs))], \n",
    "                      'MRGID':[seqs.iloc[i]['metadata']['MRGID'] for i in range(len(seqs))],\n",
    "                      'IHO_Sea':[seqs.iloc[i]['metadata']['IHO_SEA'] for i in range(len(seqs))],\n",
    "                      'EEZ':[seqs.iloc[i]['metadata']['EEZ'] for i in range(len(seqs))],\n",
    "                      'SOVEREIGN1':[seqs.iloc[i]['metadata']['SOVEREIGN1'] for i in range(len(seqs))],\n",
    "                      'id': seqs['id'],\n",
    "                      'poly_count':[int(seqs.iloc[i]['metadata']['polygonCount']) for i in range(len(seqs))]})\n",
    "get_poly(df_ant)\n",
    "df_ant = gpd.GeoDataFrame(df_ant)"
   ]
  },
  {
   "cell_type": "code",
   "execution_count": null,
   "metadata": {},
   "outputs": [],
   "source": [
    "df_ant.head()"
   ]
  },
  {
   "cell_type": "markdown",
   "metadata": {},
   "source": [
    "Pull all casts from 2018 and find the ones that intersect with the Antarctic EEZ Polygons\n"
   ]
  },
  {
   "cell_type": "code",
   "execution_count": null,
   "metadata": {},
   "outputs": [],
   "source": [
    "## Download casts from 2018 and turn into a geopandas dataframe\n",
    "casts2018 = client.get_available_casts([-180, 180], [-90, 90], ['2018-01-01', '2018-12-31'], n_threads=35)\n",
    "casts2018 = gpd.GeoDataFrame(\n",
    "    casts2018, geometry=gpd.points_from_xy(casts2018.lon, casts2018.lat))\n",
    "casts2018.head()"
   ]
  },
  {
   "cell_type": "code",
   "execution_count": null,
   "metadata": {},
   "outputs": [],
   "source": [
    "## Find intersect of casts and Antarctic EEZ\n",
    "casts2018_ant = gpd.sjoin(casts2018, df_ant, how=\"inner\", op='intersects')\n",
    "casts2018_ant.head(2)"
   ]
  },
  {
   "cell_type": "markdown",
   "metadata": {},
   "source": [
    "You can then fetch the measurement data from each of these casts"
   ]
  },
  {
   "cell_type": "code",
   "execution_count": null,
   "metadata": {},
   "outputs": [],
   "source": [
    "ant_data = client.download_data_from_casts(casts2018_ant.extId.unique(), n_threads=40)\n",
    "ant_data.head()"
   ]
  },
  {
   "cell_type": "markdown",
   "metadata": {},
   "source": [
    "And you can plot the measurements for Temperature in the Antarctic EEZ"
   ]
  },
  {
   "cell_type": "code",
   "execution_count": null,
   "metadata": {},
   "outputs": [],
   "source": [
    "plot_casts('Temperature', ant_data, cmap=cmocean.cm.thermal)"
   ]
  },
  {
   "cell_type": "markdown",
   "metadata": {},
   "source": [
    "# Assign World Seas Marine Regions to casts"
   ]
  },
  {
   "cell_type": "code",
   "execution_count": null,
   "metadata": {},
   "outputs": [],
   "source": [
    "seqs = client.sequences.list(external_id_prefix = 'marine-regions-Intersect_EEZ_IHO', limit=-1).to_pandas()\n",
    "seqs.head()"
   ]
  },
  {
   "cell_type": "markdown",
   "metadata": {},
   "source": [
    "Create dataframe with name of marine region and polygons"
   ]
  },
  {
   "cell_type": "code",
   "execution_count": null,
   "metadata": {},
   "outputs": [],
   "source": [
    "df_mr = pd.DataFrame({'marine_regions':[seqs.iloc[i]['metadata']['MARREGION'] for i in range(len(seqs))],\n",
    "                      'iho_sea':[seqs.iloc[i]['metadata']['IHO_SEA'] for i in range(len(seqs))],\n",
    "                      'MRGID':[seqs.iloc[i]['metadata']['MRGID'] for i in range(len(seqs))],\n",
    "                      'poly_count':[int(seqs.iloc[i]['metadata']['polygonCount']) for i in range(len(seqs))],\n",
    "                      'id':seqs['id']})\n",
    "get_poly(df_mr)\n",
    "df_mr = gpd.GeoDataFrame(df_mr)"
   ]
  },
  {
   "cell_type": "code",
   "execution_count": null,
   "metadata": {},
   "outputs": [],
   "source": [
    "df_mr.head()"
   ]
  },
  {
   "cell_type": "markdown",
   "metadata": {},
   "source": [
    "# Join oceanographic data to Marine Regions\n",
    "Here we find the intersect of points from the casts with the polygons from the marine regions. \n",
    "The resulting dataframe will have the associated marine regions for each cast location. "
   ]
  },
  {
   "cell_type": "code",
   "execution_count": null,
   "metadata": {},
   "outputs": [],
   "source": [
    "casts2018_mr = gpd.sjoin(casts2018, df_mr, how=\"inner\", op='intersects')"
   ]
  },
  {
   "cell_type": "code",
   "execution_count": null,
   "metadata": {},
   "outputs": [],
   "source": [
    "casts2018_mr.head(2)"
   ]
  },
  {
   "cell_type": "code",
   "execution_count": null,
   "metadata": {},
   "outputs": [],
   "source": [
    "def plot_marine_regions_data(df_casts, df_marine_regions, lat=[-90, 90], lon=[-180,180]):\n",
    "    \n",
    "    df_casts = df_casts[(df_casts.lat.between(lat[0], lat[1])) & (df_casts.lon.between(lon[0], lon[1]))]\n",
    "\n",
    "    fig = plt.figure(figsize=(14, 14))\n",
    "    colors = sns.color_palette('hls', n_colors=len(df_casts.marine_regions.unique()))\n",
    "    ax = fig.add_subplot(1, 1, 1, projection=ccrs.PlateCarree())\n",
    "    mr = df_casts.marine_regions.unique()\n",
    "    legend_elements = []\n",
    "    for i, j in enumerate(mr):\n",
    "        df_marine_regions[df_marine_regions.marine_regions == j]['geometry'].plot(ax=ax, markersize=5, color=colors[i], zorder=1);\n",
    "        legend_elements.append(Line2D([0], [0], color = colors[i], lw=4, label=mr[i]))\n",
    "    \n",
    "\n",
    "    sns.scatterplot(x=\"lon\", y=\"lat\", data=df_casts, color = 'navy', s=20, marker='o', edgecolor='white', linewidths=0.05)\n",
    "    ax.set_extent([lon[0], lon[1], lat[0], lat[1]],crs=ccrs.PlateCarree())\n",
    "    gl = ax.gridlines(crs=ccrs.PlateCarree(), draw_labels=True, linewidth=1, color='gray', alpha=0.7, linestyle=':')\n",
    "    gl.xformatter = LONGITUDE_FORMATTER\n",
    "    gl.yformatter = LATITUDE_FORMATTER\n",
    "\n",
    "    ax.legend(handles=legend_elements, loc='lower center',\n",
    "               ncol=3, borderaxespad=-12)\n",
    "\n",
    "    geo_map(ax)"
   ]
  },
  {
   "cell_type": "code",
   "execution_count": null,
   "metadata": {},
   "outputs": [],
   "source": [
    "plot_marine_regions_data(casts2018_mr, df_mr, lat=[-5,15], lon=[-100,-75])"
   ]
  },
  {
   "cell_type": "code",
   "execution_count": null,
   "metadata": {},
   "outputs": [],
   "source": []
  }
 ],
 "metadata": {
  "kernelspec": {
   "display_name": "Python 3",
   "language": "python",
   "name": "python3"
  },
  "language_info": {
   "codemirror_mode": {
    "name": "ipython",
    "version": 3
   },
   "file_extension": ".py",
   "mimetype": "text/x-python",
   "name": "python",
   "nbconvert_exporter": "python",
   "pygments_lexer": "ipython3",
   "version": "3.9.0rc2"
  },
  "pycharm": {
   "stem_cell": {
    "cell_type": "raw",
    "metadata": {
     "collapsed": false
    },
    "source": []
   }
  }
 },
 "nbformat": 4,
 "nbformat_minor": 4
}
