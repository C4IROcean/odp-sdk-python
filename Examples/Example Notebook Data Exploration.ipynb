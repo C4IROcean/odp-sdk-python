{
 "cells": [
  {
   "cell_type": "code",
   "execution_count": null,
   "metadata": {},
   "outputs": [],
   "source": [
    "import numpy as np\n",
    "import pandas as pd\n",
    "import scipy\n",
    "import seaborn as sns\n",
    "from datetime import datetime, timedelta\n",
    "import sys\n",
    "sys.path.append('/Users/tarabaris/GitHub/odp-sdk-python/Examples')\n",
    "\n",
    "## For SDK\n",
    "from getpass import getpass\n",
    "from odp_sdk import ODPClient\n",
    "from getpass import getpass\n",
    "\n",
    "## For plotting\n",
    "from odp_sdk.utils.numeric import *\n",
    "from odp_sdk.utils.visual import *\n",
    "\n",
    "## Extra functions\n",
    "pd.set_option('display.max_columns', None)\n",
    "pd.set_option('display.max_rows', None)\n",
    "sns.set_palette(sns.color_palette(\"bright\", 47))\n",
    "import warnings\n",
    "warnings.filterwarnings(\"ignore\")\n",
    "import calendar"
   ]
  },
  {
   "cell_type": "markdown",
   "metadata": {},
   "source": [
    "# Connect to API"
   ]
  },
  {
   "cell_type": "code",
   "execution_count": null,
   "metadata": {},
   "outputs": [],
   "source": [
    "client = ODPClient(api_key=getpass(prompt='Insert your personal ODP API key:'), \n",
    "                       project=\"odp\", client_name=\"odp\")"
   ]
  },
  {
   "cell_type": "markdown",
   "metadata": {},
   "source": [
    "# Pull data for desired lat/long and timespan\n",
    "Don't forget to specify if you want flagged data included or excluded"
   ]
  },
  {
   "cell_type": "code",
   "execution_count": null,
   "metadata": {},
   "outputs": [],
   "source": [
    "df=client.casts(longitude=[-10,35],\n",
    "                latitude=[50,80],\n",
    "                timespan=['2015-01-01','2018-12-31'],\n",
    "                n_threads=35) "
   ]
  },
  {
   "cell_type": "code",
   "execution_count": null,
   "metadata": {},
   "outputs": [],
   "source": [
    "df.to_pickle('df2015_18_norway.pkl')"
   ]
  },
  {
   "cell_type": "markdown",
   "metadata": {},
   "source": [
    "# Let's explore the data"
   ]
  },
  {
   "cell_type": "code",
   "execution_count": null,
   "metadata": {},
   "outputs": [],
   "source": [
    "df2=df[(df['Temperature_WODflag']==0) & (df.z<50)][['externalId','lon','lat','z','datetime','Temperature']].dropna()"
   ]
  },
  {
   "cell_type": "code",
   "execution_count": null,
   "metadata": {},
   "outputs": [],
   "source": [
    "df2.head()"
   ]
  },
  {
   "cell_type": "code",
   "execution_count": null,
   "metadata": {},
   "outputs": [],
   "source": [
    "df_surf=interpolate_casts_to_z(df2,'Temperature',[0,10,20]) ##This can take a while"
   ]
  },
  {
   "cell_type": "code",
   "execution_count": null,
   "metadata": {},
   "outputs": [],
   "source": [
    "df_surf.to_pickle('df_surf2015_18_norway.pkl')"
   ]
  },
  {
   "cell_type": "code",
   "execution_count": null,
   "metadata": {},
   "outputs": [],
   "source": [
    "df_surf.head()"
   ]
  },
  {
   "cell_type": "code",
   "execution_count": null,
   "metadata": {},
   "outputs": [],
   "source": [
    "df_surf.dropna(inplace=True)\n",
    "df_surf['unixtime']=df_surf['datetime'].apply(lambda x : x.value) \n",
    "df_surf=df_surf[df_surf.Temperature>-1]\n",
    "df_surf.describe()"
   ]
  },
  {
   "cell_type": "markdown",
   "metadata": {},
   "source": [
    "# Plot temperature over months"
   ]
  },
  {
   "cell_type": "code",
   "execution_count": null,
   "metadata": {},
   "outputs": [],
   "source": [
    "## Pick a year\n",
    "df_2018 = df_surf[df_surf.datetime.dt.year == 2018]\n",
    "coord = {\n",
    "'month':[1,2,3,4,5,6,7,8,9,10,11,12],\n",
    "'lat':[56,73,56],\n",
    "'lon':[3, 20, 18],\n",
    "'name':['North Sea','Barents Sea','Baltic Sea']}\n",
    "kind = 'rbf'\n",
    "\n",
    "\n",
    "temp = []\n",
    "for mnth in coord['month']:\n",
    "    try:\n",
    "        points=df_2018[df_2018.datetime.dt.month == mnth][['lon','lat']].values.astype('float')\n",
    "        values=df_2018[df_2018.datetime.dt.month == mnth]['Temperature'].values.astype('float')\n",
    "        int_points=[coord['lon'], coord['lat']]\n",
    "        grid,g=interpolate_to_grid(points.copy(),values.copy(),int_points.copy(), interp_type=kind,\n",
    "                               rbf_func='linear',rbf_smooth=0.1,rescale=True)\n",
    "        \n",
    "    except:\n",
    "        g=None\n",
    "    temp.append(g)\n",
    "    \n",
    "df_temp = pd.DataFrame({\n",
    "                    'month': [calendar.month_name[mnth] for mnth in coord['month']]})\n",
    "\n",
    "temp_values = []\n",
    "for i in range(len(coord['month'])):\n",
    "    temp_values.append(temp[i].diagonal())\n",
    "\n",
    "for name in coord['name']:\n",
    "    temp_values = np.vstack(temp_values)\n",
    "    df_temp[name] = temp_values[:,coord['name'].index(name)]\n",
    "    \n",
    "colors = sns.color_palette('bright')\n",
    "plt.figure(figsize=(14,8))\n",
    "\n",
    "for i, name in enumerate(coord['name']):\n",
    "    plt.plot( 'month', name, data=df_temp, marker='o',color=colors[i], linewidth=2)\n",
    "    plt.xlabel('Month')\n",
    "    plt.ylabel('Temperature {}'.format(get_units()['Temperature']))\n",
    "    plt.legend()\n",
    "    \n",
    "df_temp\n"
   ]
  },
  {
   "cell_type": "markdown",
   "metadata": {},
   "source": [
    "# Plot seasonal temperature over years"
   ]
  },
  {
   "cell_type": "code",
   "execution_count": null,
   "metadata": {},
   "outputs": [],
   "source": [
    "seasons = ['Winter', 'Winter', 'Winter', 'Spring', 'Spring', 'Spring','Summer', 'Summer','Summer','Fall', 'Fall', 'Fall', ]\n",
    "month_to_season = dict(zip(range(1,13), seasons))\n",
    "\n",
    "df_surf['season'] = df_surf.datetime.dt.month.map(month_to_season)\n",
    "\n",
    "df_surf.head()"
   ]
  },
  {
   "cell_type": "code",
   "execution_count": null,
   "metadata": {},
   "outputs": [],
   "source": [
    "season = 'Summer'\n",
    "df_season = df_surf[df_surf.season == season]\n",
    "\n",
    "coord = {\n",
    "'year':[2015, 2016, 2017, 2018],\n",
    "'lat':[56,73,56],\n",
    "'lon':[3, 20, 18],\n",
    "'name':['North Sea','Barents Sea','Baltic Sea']}\n",
    "kind = 'rbf'\n",
    "\n",
    "\n",
    "temp = []\n",
    "for yr in coord['year']:\n",
    "    try:\n",
    "        points=df_season[df_season.datetime.dt.year == yr][['lon','lat']].values.astype('float')\n",
    "        values=df_season[df_season.datetime.dt.year == yr]['Temperature'].values.astype('float')\n",
    "        int_points=[coord['lon'], coord['lat']]\n",
    "        grid,g=interpolate_to_grid(points.copy(),values.copy(),int_points.copy(), interp_type=kind,\n",
    "                               rbf_func='linear',rbf_smooth=0.1,rescale=True)\n",
    "        \n",
    "    except:\n",
    "#         print(mnth)\n",
    "        g=None\n",
    "    temp.append(g)\n",
    "    \n",
    "df_temp = pd.DataFrame({\n",
    "                    'year': coord['year']})\n",
    "\n",
    "temp_values = []\n",
    "for i in range(len(coord['year'])):\n",
    "    temp_values.append(temp[i].diagonal())\n",
    "\n",
    "for name in coord['name']:\n",
    "    temp_values = np.vstack(temp_values)\n",
    "    df_temp[name] = temp_values[:,coord['name'].index(name)]\n",
    "    \n",
    "colors = sns.color_palette('bright')\n",
    "plt.figure(figsize=(14,8))\n",
    "\n",
    "for i, name in enumerate(coord['name']):\n",
    "    plt.plot( 'year', name, data=df_temp, marker='o',color=colors[i], linewidth=2)\n",
    "    plt.xlabel('Year')\n",
    "    plt.xticks(coord['year'])\n",
    "    plt.ylabel('Temperature {}'.format(get_units()['Temperature']))\n",
    "    plt.legend()\n",
    "    \n",
    "df_temp\n"
   ]
  },
  {
   "cell_type": "markdown",
   "metadata": {},
   "source": [
    "# Plot individual casts with depth"
   ]
  },
  {
   "cell_type": "code",
   "execution_count": null,
   "metadata": {},
   "outputs": [],
   "source": [
    "cast_names=['cast_wod_3_2018_34350_19271220','cast_wod_3_2018_34350_19272097','cast_wod_3_2018_34350_19271373']\n",
    "variable='Temperature'\n",
    "\n",
    "plt.figure(figsize=(10,10))\n",
    "legend=[]\n",
    "for cast_name in cast_names:\n",
    "    data=client.download_data_from_casts([cast_name])\n",
    "    plt.plot(data[variable],data.z)\n",
    "    plt.scatter(data[variable],data.z)\n",
    "    legend.append('date: {}, {}'.format(data.date.iloc[0],cast_name))\n",
    "\n",
    "plt.legend(legend,loc=0)\n",
    "plt.gca().invert_yaxis()   \n",
    "plt.ylabel('Depth (m)')\n",
    "plt.xlabel(variable + ' ' + get_units()[variable])\n"
   ]
  },
  {
   "cell_type": "code",
   "execution_count": null,
   "metadata": {},
   "outputs": [],
   "source": []
  }
 ],
 "metadata": {
  "kernelspec": {
   "display_name": "Python 3",
   "language": "python",
   "name": "python3"
  },
  "language_info": {
   "codemirror_mode": {
    "name": "ipython",
    "version": 3
   },
   "file_extension": ".py",
   "mimetype": "text/x-python",
   "name": "python",
   "nbconvert_exporter": "python",
   "pygments_lexer": "ipython3",
   "version": "3.9.0rc2"
  },
  "pycharm": {
   "stem_cell": {
    "cell_type": "raw",
    "metadata": {
     "collapsed": false
    },
    "source": []
   }
  }
 },
 "nbformat": 4,
 "nbformat_minor": 4
}
